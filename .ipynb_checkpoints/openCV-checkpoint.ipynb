{
 "cells": [
  {
   "cell_type": "code",
   "execution_count": 1,
   "metadata": {},
   "outputs": [],
   "source": [
    "import numpy as np\n",
    "import cv2\n",
    "import matplotlib.pyplot as plt\n",
    "import time\n",
    "from deepface import DeepFace\n",
    "import pandas as pd\n",
    "from tensorflow.keras.preprocessing.image import img_to_array\n",
    "from tensorflow.keras.applications.mobilenet_v2 import preprocess_input"
   ]
  },
  {
   "cell_type": "markdown",
   "metadata": {},
   "source": [
    "### ResNet SSD model based on VGG\n",
    "https://sefiks.com/2020/08/25/deep-face-detection-with-opencv-in-python/"
   ]
  },
  {
   "cell_type": "markdown",
   "metadata": {},
   "source": [
    "macOS cannot quit properly in jupyter notebook"
   ]
  },
  {
   "cell_type": "code",
   "execution_count": 1,
   "metadata": {},
   "outputs": [
    {
     "ename": "SyntaxError",
     "evalue": "invalid syntax (<ipython-input-1-147420f55350>, line 3)",
     "output_type": "error",
     "traceback": [
      "\u001b[0;36m  File \u001b[0;32m\"<ipython-input-1-147420f55350>\"\u001b[0;36m, line \u001b[0;32m3\u001b[0m\n\u001b[0;31m    deep_face_database =\u001b[0m\n\u001b[0m                         ^\u001b[0m\n\u001b[0;31mSyntaxError\u001b[0m\u001b[0;31m:\u001b[0m invalid syntax\n"
     ]
    }
   ],
   "source": [
    "deploy_path = \"./res_ssd/deploy.prototxt\"\n",
    "model_path = \"./res_ssd/res10_300x300_ssd_iter_140000.caffemodel\"\n",
    "deep_face_database = \"./database\"\n",
    "cv_flag = 0"
   ]
  },
  {
   "cell_type": "code",
   "execution_count": 3,
   "metadata": {},
   "outputs": [],
   "source": [
    "def detect_and_predict_mask(frame, faceNet):\n",
    "    # grab the dimensions of the frame and then construct a blob\n",
    "    # from it\n",
    "    (h, w) = frame.shape[:2]\n",
    "    blob = cv2.dnn.blobFromImage(frame, \n",
    "                                 1.0, \n",
    "                                 (224, 224),\n",
    "                                 (104.0, 177.0, 123.0))\n",
    "\n",
    "    # pass the blob through the network and obtain the face detections\n",
    "    faceNet.setInput(blob)\n",
    "    detections = faceNet.forward()\n",
    "\n",
    "    # initialize our list of faces, their corresponding locations,\n",
    "    # and the list of predictions from our face mask network\n",
    "    locs = []\n",
    "#     preds = []\n",
    "    faces = []\n",
    "\n",
    "    # loop over the detections\n",
    "    for i in range(0, detections.shape[2]):\n",
    "        # extract the confidence (i.e., probability) associated with\n",
    "        # the detection\n",
    "        confidence = detections[0, 0, i, 2]\n",
    "\n",
    "        # filter out weak detections by ensuring the confidence is\n",
    "        # greater than the minimum confidence\n",
    "        if confidence > 0.5:\n",
    "            # compute the (x, y)-coordinates of the bounding box for\n",
    "            # the object\n",
    "            box = detections[0, 0, i, 3:7] * np.array([w, h, w, h])\n",
    "            (startX, startY, endX, endY) = box.astype(\"int\")\n",
    "\n",
    "            # ensure the bounding boxes fall within the dimensions of\n",
    "            # the frame\n",
    "            (startX, startY) = (max(0, startX), max(0, startY))\n",
    "            (endX, endY) = (min(w - 1, endX), min(h - 1, endY))\n",
    "\n",
    "            # extract the face ROI, convert it from BGR to RGB channel\n",
    "            # ordering, resize it to 224x224, and preprocess it\n",
    "            face = frame[startY:endY, startX:endX]\n",
    "            face = cv2.cvtColor(face, cv2.COLOR_BGR2RGB)\n",
    "            face = cv2.resize(face, (224, 224))\n",
    "#             face = img_to_array(face)\n",
    "#             face = preprocess_input(face)\n",
    "\n",
    "            # add the face and bounding boxes to their respective\n",
    "            # lists\n",
    "            faces.append(face)\n",
    "            locs.append((startX, startY, endX, endY))\n",
    "\n",
    "    return locs, faces"
   ]
  },
  {
   "cell_type": "code",
   "execution_count": 4,
   "metadata": {},
   "outputs": [],
   "source": [
    "from deepface.basemodels import VGGFace\n",
    "vgg_model = VGGFace.loadModel()\n",
    "def get_deepFace_result(face):\n",
    "    cv2.imwrite('tmp.jpg', face)\n",
    "    df = DeepFace.find(img_path=\"tmp.jpg\", \n",
    "                       db_path=\"./database\", \n",
    "                       enforce_detection=False, \n",
    "                       model_name = 'VGG-Face',\n",
    "                       model = vgg_model,\n",
    "                       distance_metric = 'cosine')\n",
    "    path = \"default\"\n",
    "    if df.shape[0] >0:\n",
    "        path = df.iloc[0].identity\n",
    "    return path"
   ]
  },
  {
   "cell_type": "code",
   "execution_count": null,
   "metadata": {},
   "outputs": [],
   "source": [
    "detector = cv2.dnn.readNetFromCaffe(deploy_path, model_path)\n",
    "source=cv2.VideoCapture(cv_flag)\n",
    "while(source.isOpened()):\n",
    "    ret,image=source.read()\n",
    "    if ret == False:\n",
    "        break\n",
    "    locs, faces = detect_and_predict_mask(image, detector)\n",
    "    for (box, face) in zip(locs, faces):\n",
    "        (startX, startY, endX, endY) = box\n",
    "        color = (0, 255, 0)\n",
    "        path = get_deepFace_result(face)\n",
    "        cv2.putText(image, path, (startX, startY - 25),\n",
    "                cv2.FONT_HERSHEY_SIMPLEX, 0.45, color, 2)\n",
    "        cv2.putText(image, \"Mask\", (startX, startY - 10),\n",
    "                cv2.FONT_HERSHEY_SIMPLEX, 0.45, color, 2)\n",
    "        cv2.rectangle(image, (startX, startY), (endX, endY), color, 2)\n",
    "        cv2.imshow('frame',image)\n",
    "    \n",
    "    \n",
    "    if cv2.waitKey(20) & 0xFF == ord('q'):\n",
    "        break\n",
    "    \n",
    "cv2.destroyAllWindows()\n",
    "source.release()"
   ]
  },
  {
   "cell_type": "code",
   "execution_count": null,
   "metadata": {},
   "outputs": [],
   "source": []
  }
 ],
 "metadata": {
  "kernelspec": {
   "display_name": "Python 3",
   "language": "python",
   "name": "python3"
  },
  "language_info": {
   "codemirror_mode": {
    "name": "ipython",
    "version": 3
   },
   "file_extension": ".py",
   "mimetype": "text/x-python",
   "name": "python",
   "nbconvert_exporter": "python",
   "pygments_lexer": "ipython3",
   "version": "3.7.0"
  }
 },
 "nbformat": 4,
 "nbformat_minor": 4
}
